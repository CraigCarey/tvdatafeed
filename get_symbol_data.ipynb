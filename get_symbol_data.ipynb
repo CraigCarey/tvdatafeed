{
 "cells": [
  {
   "cell_type": "code",
   "execution_count": 1,
   "metadata": {},
   "outputs": [
    {
     "name": "stderr",
     "output_type": "stream",
     "text": [
      "/home/craigc/personal_workspace/tvdatafeed/tvDatafeed/main.py:135: SyntaxWarning: invalid escape sequence '\\['\n",
      "  out = re.search('\"s\":\\[(.+?)\\}\\]', raw_data).group(1)\n",
      "/home/craigc/personal_workspace/tvdatafeed/tvDatafeed/main.py:141: SyntaxWarning: invalid escape sequence '\\['\n",
      "  xi = re.split(\"\\[|:|,|\\]\", xi)\n",
      "you are using nologin method, data you access may be limited\n"
     ]
    }
   ],
   "source": [
    "from tvDatafeed import TvDatafeed\n",
    "\n",
    "tv = TvDatafeed()"
   ]
  },
  {
   "cell_type": "code",
   "execution_count": null,
   "metadata": {},
   "outputs": [
    {
     "data": {
      "text/plain": [
       "{'source2': {'country': 'RU',\n",
       "  'description': 'Russian Exchange',\n",
       "  'exchange-type': 'exchange',\n",
       "  'id': 'RUS',\n",
       "  'name': 'Russian Exchange',\n",
       "  'url': 'https://www.moex.com'},\n",
       " 'currency_code': 'RUB',\n",
       " 'source_id': 'RUS',\n",
       " 'session_holidays': '20010101,20010102,20010108,20010308,20010309,20010501,20010502,20010509,20010611,20010612,20011107,20011212,20020101,20020102,20020107,20020225,20020308,20020501,20020502,20020503,20020509,20020510,20020612,20021107,20021108,20021212,20021213,20030101,20030102,20030103,20030106,20030107,20030224,20030310,20030501,20030502,20030509,20030612,20030613,20031107,20031212,20040101,20040102,20040107,20040223,20040308,20040503,20040504,20040510,20040614,20041108,20041213,20050103,20050104,20050105,20050106,20050107,20050110,20050223,20050307,20050308,20050502,20050509,20050510,20050613,20051104,20060102,20060103,20060104,20060105,20060106,20060109,20060223,20060224,20060308,20060501,20060508,20060509,20060612,20061106,20070101,20070102,20070103,20070104,20070107,20070108,20070225,20070308,20070501,20070509,20070611,20070612,20071105,20080101,20080102,20080103,20080104,20080107,20080108,20080225,20080310,20080501,20080502,20080509,20080612,20080613,20081103,20081104,20090101,20090102,20090105,20090106,20090107,20090108,20090109,20090223,20090309,20090501,20090511,20090612,20091104,20100101,20100104,20100105,20100106,20100107,20100108,20100222,20100223,20100308,20100503,20100510,20100614,20101104,20101105,20110103,20110104,20110105,20110106,20110107,20110223,20110307,20110308,20110502,20110509,20110613,20111104,20120102,20120223,20120308,20120309,20120430,20120501,20120509,20120611,20120612,20121105,20121231,20130101,20130102,20130103,20130104,20130105,20130107,20130308,20130501,20130509,20130612,20131104,20131231,20140101,20140102,20140103,20140107,20140310,20140501,20140509,20140612,20141104,20141231,20150101,20150102,20150107,20150223,20150309,20150501,20150504,20150511,20150612,20151104,20151231,20160101,20160107,20160108,20160223,20160308,20160502,20160503,20160509,20160613,20161104,20170102,20170223,20170308,20170501,20170508,20170509,20170612,20171106,20180101,20180102,20180108,20180223,20180308,20180501,20180509,20180612,20181105,20181231,20190101,20190102,20190107,20190308,20190501,20190509,20190612,20191104,20191231,20200101,20200102,20200107,20200224,20200309,20200501,20200511,20200612,20200624,20200701,20201104,20201231,20210101,20210107,20210223,20210308,20210503,20211104,20211231,20220107,20220223,20220305,20220307,20220308,20220502,20220509,20220613,20221104,20230102,20230223,20230308,20230501,20230509,20230612,20240101,20240102,20240107,20240223,20240308,20240501,20240509,20240612,20241104,20250101,20250102,20250107,20250223,20250308,20250501,20250509,20250612,20251104,20251231',\n",
       " 'subsession_id': 'regular',\n",
       " 'provider_id': 'alor',\n",
       " 'currency_id': 'RUB',\n",
       " 'country': 'RU',\n",
       " 'pro_perm': 'moex',\n",
       " 'measure': 'price',\n",
       " 'allowed_adjustment': 'any',\n",
       " 'short_description': 'Gazprom',\n",
       " 'variable_tick_size': '0.01',\n",
       " 'isin': 'RU0007661625',\n",
       " 'delay': 900,\n",
       " 'language': 'ru',\n",
       " 'local_description': '\"Газпром\" (ПАО) - обыкн.',\n",
       " 'name': 'GAZP',\n",
       " 'full_name': 'RUS_DLY:GAZP',\n",
       " 'pro_name': 'RUS:GAZP',\n",
       " 'base_name': ['RUS:GAZP'],\n",
       " 'description': 'Gazprom',\n",
       " 'exchange': 'RUS',\n",
       " 'pricescale': 100,\n",
       " 'pointvalue': 1.0,\n",
       " 'minmov': 1,\n",
       " 'session': '0700-2350',\n",
       " 'session_display': '0700-2350',\n",
       " 'subsessions': [{'description': 'Regular Trading Hours',\n",
       "   'id': 'regular',\n",
       "   'private': False,\n",
       "   'session': '0700-2350',\n",
       "   'session-correction': '0700-2350:20240427,20241102,20241228,20251101;1000-2350:20210220;dayoff:20220228,20220301,20220302,20220303,20220304,20220309,20220310,20220311,20220314,20220315,20220316,20220317,20220318',\n",
       "   'session-display': '0700-2350'},\n",
       "  {'description': 'Extended Trading Hours',\n",
       "   'id': 'extended',\n",
       "   'private': False,\n",
       "   'session': '0600-2350',\n",
       "   'session-correction': '0600-2350:20240427,20241102,20241228,20251101;0900-2350:20210220;dayoff:20220228,20220301,20220302,20220303,20220304,20220309,20220310,20220311,20220314,20220315,20220316,20220317,20220318',\n",
       "   'session-display': '0600-2350'},\n",
       "  {'description': 'Premarket',\n",
       "   'id': 'premarket',\n",
       "   'private': True,\n",
       "   'session': '0600-0700',\n",
       "   'session-correction': '0600-0700:20240427,20241102,20241228,20251101;0900-1000:20210220;dayoff:20220228,20220301,20220302,20220303,20220304,20220309,20220310,20220311,20220314,20220315,20220316,20220317,20220318',\n",
       "   'session-display': '0600-0700'}],\n",
       " 'type': 'stock',\n",
       " 'typespecs': ['common'],\n",
       " 'has_intraday': True,\n",
       " 'fractional': False,\n",
       " 'listed_exchange': 'RUS',\n",
       " 'legs': ['RUS_DLY:GAZP'],\n",
       " 'is_tradable': True,\n",
       " 'minmove2': 0,\n",
       " 'timezone': 'Europe/Moscow',\n",
       " 'aliases': ['ALOR_DLY:GAZP', 'MOEX_DLY:GAZP'],\n",
       " 'alternatives': [],\n",
       " 'is_replayable': True,\n",
       " 'has_adjustment': True,\n",
       " 'has_extended_hours': True,\n",
       " 'bar_source': 'trade',\n",
       " 'bar_transform': 'none',\n",
       " 'bar_fillgaps': False,\n",
       " 'visible_plots_set': 'ohlcv',\n",
       " 'isin-displayed': 'RU0007661625',\n",
       " 'is-tickbars-available': True}"
      ]
     },
     "execution_count": 2,
     "metadata": {},
     "output_type": "execute_result"
    }
   ],
   "source": [
    "sym_data = tv.get_symbol_data(\"GAZP\", \"ALOR\")\n",
    "\n",
    "sym_data"
   ]
  }
 ],
 "metadata": {
  "kernelspec": {
   "display_name": "tvdatafeed-venv",
   "language": "python",
   "name": "python3"
  },
  "language_info": {
   "codemirror_mode": {
    "name": "ipython",
    "version": 3
   },
   "file_extension": ".py",
   "mimetype": "text/x-python",
   "name": "python",
   "nbconvert_exporter": "python",
   "pygments_lexer": "ipython3",
   "version": "3.12.3"
  }
 },
 "nbformat": 4,
 "nbformat_minor": 2
}
