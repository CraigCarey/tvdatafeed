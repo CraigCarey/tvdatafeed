{
 "cells": [
  {
   "cell_type": "code",
   "execution_count": 1,
   "metadata": {},
   "outputs": [
    {
     "name": "stderr",
     "output_type": "stream",
     "text": [
      "you are using nologin method, data you access may be limited\n"
     ]
    }
   ],
   "source": [
    "from tvDatafeed import TvDatafeed\n",
    "\n",
    "tv = TvDatafeed()"
   ]
  },
  {
   "cell_type": "code",
   "execution_count": 7,
   "metadata": {},
   "outputs": [
    {
     "data": {
      "text/plain": [
       "{'source2': {'country': 'RU',\n",
       "  'description': 'Russian Exchange',\n",
       "  'exchange-type': 'exchange',\n",
       "  'id': 'RUS',\n",
       "  'name': 'Russian Exchange',\n",
       "  'url': 'https://www.moex.com'},\n",
       " 'currency_code': 'RUB',\n",
       " 'source_id': 'RUS',\n",
       " 'session_holidays': '20010101,20010102,20010108,20010308,20010309,20010501,20010502,20010509,20010611,20010612,20011107,20011212,20020101,20020102,20020107,20020225,20020308,20020501,20020502,20020503,20020509,20020510,20020612,20021107,20021108,20021212,20021213,20030101,20030102,20030103,20030106,20030107,20030224,20030310,20030501,20030502,20030509,20030612,20030613,20031107,20031212,20040101,20040102,20040107,20040223,20040308,20040503,20040504,20040510,20040614,20041108,20041213,20050103,20050104,20050105,20050106,20050107,20050110,20050223,20050307,20050308,20050502,20050509,20050510,20050613,20051104,20060102,20060103,20060104,20060105,20060106,20060109,20060223,20060224,20060308,20060501,20060508,20060509,20060612,20061106,20070101,20070102,20070103,20070104,20070107,20070108,20070225,20070308,20070501,20070509,20070611,20070612,20071105,20080101,20080102,20080103,20080104,20080107,20080108,20080225,20080310,20080501,20080502,20080509,20080612,20080613,20081103,20081104,20090101,20090102,20090105,20090106,20090107,20090108,20090109,20090223,20090309,20090501,20090511,20090612,20091104,20100101,20100104,20100105,20100106,20100107,20100108,20100222,20100223,20100308,20100503,20100510,20100614,20101104,20101105,20110103,20110104,20110105,20110106,20110107,20110223,20110307,20110308,20110502,20110509,20110613,20111104,20120102,20120223,20120308,20120309,20120430,20120501,20120509,20120611,20120612,20121105,20121231,20130101,20130102,20130103,20130104,20130105,20130107,20130308,20130501,20130509,20130612,20131104,20131231,20140101,20140102,20140103,20140107,20140310,20140501,20140509,20140612,20141104,20141231,20150101,20150102,20150107,20150223,20150309,20150501,20150504,20150511,20150612,20151104,20151231,20160101,20160107,20160108,20160223,20160308,20160502,20160503,20160509,20160613,20161104,20170102,20170223,20170308,20170501,20170508,20170509,20170612,20171106,20180101,20180102,20180108,20180223,20180308,20180501,20180509,20180612,20181105,20181231,20190101,20190102,20190107,20190308,20190501,20190509,20190612,20191104,20191231,20200101,20200102,20200107,20200224,20200309,20200501,20200511,20200612,20200624,20200701,20201104,20201231,20210101,20210107,20210223,20210308,20210503,20211104,20211231,20220107,20220223,20220305,20220307,20220308,20220502,20220509,20220613,20221104,20230102,20230223,20230308,20230501,20230509,20230612,20240101,20240102,20240107,20240223,20240308,20240501,20240509,20240612,20241104,20250101,20250102,20250107,20250223,20250308,20250501,20250509,20250612,20251104,20251231',\n",
       " 'subsession_id': 'regular',\n",
       " 'provider_id': 'alor',\n",
       " 'currency_id': 'RUB',\n",
       " 'country': 'RU',\n",
       " 'pro_perm': 'moex',\n",
       " 'measure': 'price',\n",
       " 'allowed_adjustment': 'any',\n",
       " 'short_description': 'Gazprom',\n",
       " 'variable_tick_size': '0.01',\n",
       " 'isin': 'RU0007661625',\n",
       " 'delay': 900,\n",
       " 'language': 'ru',\n",
       " 'local_description': '\"Газпром\" (ПАО) - обыкн.',\n",
       " 'name': 'GAZP',\n",
       " 'full_name': 'RUS_DLY:GAZP',\n",
       " 'pro_name': 'RUS:GAZP',\n",
       " 'base_name': ['RUS:GAZP'],\n",
       " 'description': 'Gazprom',\n",
       " 'exchange': 'RUS',\n",
       " 'pricescale': 100,\n",
       " 'pointvalue': 1.0,\n",
       " 'minmov': 1,\n",
       " 'session': '0700-2350',\n",
       " 'session_display': '0700-2350',\n",
       " 'subsessions': [{'description': 'Regular Trading Hours',\n",
       "   'id': 'regular',\n",
       "   'private': False,\n",
       "   'session': '0700-2350',\n",
       "   'session-correction': '0700-2350:20240427,20241102,20241228,20251101;1000-2350:20210220;dayoff:20220228,20220301,20220302,20220303,20220304,20220309,20220310,20220311,20220314,20220315,20220316,20220317,20220318',\n",
       "   'session-display': '0700-2350'},\n",
       "  {'description': 'Extended Trading Hours',\n",
       "   'id': 'extended',\n",
       "   'private': False,\n",
       "   'session': '0600-2350',\n",
       "   'session-correction': '0600-2350:20240427,20241102,20241228,20251101;0900-2350:20210220;dayoff:20220228,20220301,20220302,20220303,20220304,20220309,20220310,20220311,20220314,20220315,20220316,20220317,20220318',\n",
       "   'session-display': '0600-2350'},\n",
       "  {'description': 'Premarket',\n",
       "   'id': 'premarket',\n",
       "   'private': True,\n",
       "   'session': '0600-0700',\n",
       "   'session-correction': '0600-0700:20240427,20241102,20241228,20251101;0900-1000:20210220;dayoff:20220228,20220301,20220302,20220303,20220304,20220309,20220310,20220311,20220314,20220315,20220316,20220317,20220318',\n",
       "   'session-display': '0600-0700'}],\n",
       " 'type': 'stock',\n",
       " 'typespecs': ['common'],\n",
       " 'has_intraday': True,\n",
       " 'fractional': False,\n",
       " 'listed_exchange': 'RUS',\n",
       " 'legs': ['RUS_DLY:GAZP'],\n",
       " 'is_tradable': True,\n",
       " 'minmove2': 0,\n",
       " 'timezone': 'Europe/Moscow',\n",
       " 'aliases': ['ALOR_DLY:GAZP', 'MOEX_DLY:GAZP'],\n",
       " 'alternatives': [],\n",
       " 'is_replayable': True,\n",
       " 'has_adjustment': True,\n",
       " 'has_extended_hours': True,\n",
       " 'bar_source': 'trade',\n",
       " 'bar_transform': 'none',\n",
       " 'bar_fillgaps': False,\n",
       " 'visible_plots_set': 'ohlcv',\n",
       " 'isin-displayed': 'RU0007661625',\n",
       " 'is-tickbars-available': True}"
      ]
     },
     "execution_count": 7,
     "metadata": {},
     "output_type": "execute_result"
    }
   ],
   "source": [
    "sym_gazp = tv.get_symbol_data(\"GAZP\", \"RUS\")\n",
    "\n",
    "sym_gazp"
   ]
  },
  {
   "cell_type": "code",
   "execution_count": 6,
   "metadata": {},
   "outputs": [
    {
     "data": {
      "text/plain": [
       "{'source2': {'country': 'GB',\n",
       "  'description': 'London Stock Exchange',\n",
       "  'exchange-type': 'exchange',\n",
       "  'id': 'LSE',\n",
       "  'name': 'London Stock Exchange',\n",
       "  'url': 'https://www.londonstockexchange.com'},\n",
       " 'currency_code': 'GBX',\n",
       " 'source_id': 'LSE',\n",
       " 'session_holidays': '20010101,20010413,20010416,20010507,20010528,20010827,20011225,20011226,20020101,20020329,20020401,20020506,20020603,20020604,20020826,20021225,20021226,20030101,20030418,20030421,20031225,20031226,20040101,20040409,20040412,20040503,20040531,20040830,20041227,20041228,20050103,20050325,20050328,20050502,20050530,20050829,20051226,20051227,20060102,20060414,20060417,20060501,20060529,20060828,20061225,20061226,20070101,20070406,20070409,20070507,20070528,20070827,20071225,20071226,20080101,20080321,20080324,20080505,20080526,20080825,20081225,20081226,20090101,20090410,20090413,20090504,20090525,20090831,20091225,20091228,20100101,20100402,20100405,20100503,20100531,20100830,20101227,20101228,20110103,20110422,20110425,20110429,20110502,20110530,20110829,20111226,20111227,20120102,20120406,20120409,20120507,20120604,20120605,20120827,20121225,20121226,20130101,20130329,20130401,20130506,20130527,20130826,20131225,20131226,20140101,20140418,20140421,20140505,20140526,20140825,20141225,20141226,20150101,20150403,20150406,20150504,20150525,20150831,20151225,20151228,20160101,20160325,20160328,20160502,20160530,20160829,20161226,20161227,20170102,20170414,20170417,20170501,20170529,20170828,20171225,20171226,20180101,20180330,20180402,20180507,20180528,20180827,20181225,20181226,20190101,20190419,20190422,20190506,20190527,20190826,20191225,20191226,20200101,20200410,20200413,20200508,20200525,20200831,20201225,20201228,20210101,20210402,20210405,20210503,20210531,20210830,20211227,20211228,20220103,20220415,20220418,20220502,20220602,20220603,20220829,20220919,20221226,20221227,20230102,20230407,20230410,20230501,20230508,20230529,20230828,20231225,20231226,20240101,20240329,20240401,20240506,20240527,20240826,20241225,20241226,20250101,20250418,20250421,20250505,20250526,20250825,20251225,20251226,20260101,20260403,20260406,20260504,20260525,20260831,20261225,20261228,20270101,20270326,20270329,20270503,20270531,20270830,20271227,20271228,20280103,20280414,20280417,20280501,20280529,20280828,20281225,20281226,20290101,20290330,20290402,20290507,20290528,20290827,20291225,20291226,20300101,20300419,20300422,20300506,20300527,20300826,20301225,20301226,20310101,20310411,20310414,20310505,20310526,20310825,20311225,20311226,20320101,20320326,20320329,20320503,20320531,20320830,20321227,20321228,20330103,20330415,20330418,20330502,20330530,20330829,20331226,20331227',\n",
       " 'subsession_id': 'regular',\n",
       " 'provider_id': 'ice',\n",
       " 'currency_id': 'XTVGBX',\n",
       " 'country': 'GB',\n",
       " 'pro_perm': 'lse_ls',\n",
       " 'measure': 'price',\n",
       " 'allowed_adjustment': 'any',\n",
       " 'short_description': 'GLENCORE PLC ORD USD0.01',\n",
       " 'variable_tick_size': '0.0001 0.1 0.0001 0.2 0.0001 0.5 0.0001 1 0.0002 2 0.0005 5 0.001 10 0.002 20 0.005 50 0.01 100 0.02 200 0.05 500 0.1 1000 0.2 2000 0.5 5000 1 10000 2 20000 5 50000 10',\n",
       " 'isin': 'JE00B4T3BW64',\n",
       " 'delay': 900,\n",
       " 'language': 'en',\n",
       " 'name': 'GLEN',\n",
       " 'full_name': 'LSE_DLY:GLEN',\n",
       " 'pro_name': 'LSE:GLEN',\n",
       " 'base_name': ['LSE:GLEN'],\n",
       " 'description': 'GLENCORE PLC ORD USD0.01',\n",
       " 'exchange': 'LSE',\n",
       " 'pricescale': 100,\n",
       " 'pointvalue': 1.0,\n",
       " 'minmov': 5,\n",
       " 'session': '0800-1705',\n",
       " 'session_display': '0800-1705',\n",
       " 'subsessions': [{'description': 'Regular Trading Hours',\n",
       "   'id': 'regular',\n",
       "   'private': False,\n",
       "   'session': '0800-1705',\n",
       "   'session-correction': '0800-1230:20221223,20221230,20231222,20231229,20241224,20241231,20251224,20251231',\n",
       "   'session-display': '0800-1705'},\n",
       "  {'description': 'Extended Trading Hours',\n",
       "   'id': 'extended',\n",
       "   'private': False,\n",
       "   'session': '0750-1705',\n",
       "   'session-correction': '0750-1230:20221223,20221230,20231222,20231229,20241224,20241231,20251224,20251231',\n",
       "   'session-display': '0750-1705'},\n",
       "  {'description': 'Premarket',\n",
       "   'id': 'premarket',\n",
       "   'private': True,\n",
       "   'session': '0750-0800',\n",
       "   'session-correction': '0750-0800:20221223,20221230,20231222,20231229,20241224,20241231,20251224,20251231',\n",
       "   'session-display': '0750-0800'}],\n",
       " 'type': 'stock',\n",
       " 'typespecs': ['common'],\n",
       " 'has_intraday': True,\n",
       " 'fractional': False,\n",
       " 'listed_exchange': 'LSE',\n",
       " 'legs': ['LSE_DLY:GLEN'],\n",
       " 'is_tradable': True,\n",
       " 'minmove2': 0,\n",
       " 'timezone': 'Europe/London',\n",
       " 'aliases': [],\n",
       " 'alternatives': [],\n",
       " 'is_replayable': True,\n",
       " 'has_adjustment': True,\n",
       " 'has_extended_hours': True,\n",
       " 'bar_source': 'trade',\n",
       " 'bar_transform': 'none',\n",
       " 'bar_fillgaps': False,\n",
       " 'visible_plots_set': 'ohlcv',\n",
       " 'isin-displayed': 'JE00B4T3BW64',\n",
       " 'is-tickbars-available': True,\n",
       " 'figi': {'country-composite': 'BBG001MM1KT7',\n",
       "  'exchange-level': 'BBG001MM1KV4'}}"
      ]
     },
     "metadata": {},
     "output_type": "display_data"
    }
   ],
   "source": [
    "sym_glen = tv.get_symbol_data(\"GLEN\", \"LSE\")\n",
    "display(sym_glen)"
   ]
  },
  {
   "cell_type": "code",
   "execution_count": 10,
   "metadata": {},
   "outputs": [
    {
     "name": "stdout",
     "output_type": "stream",
     "text": [
      "dict_keys(['source2', 'currency_code', 'source_id', 'session_holidays', 'subsession_id', 'provider_id', 'currency_id', 'country', 'pro_perm', 'measure', 'allowed_adjustment', 'short_description', 'variable_tick_size', 'isin', 'delay', 'language', 'local_description', 'name', 'full_name', 'pro_name', 'base_name', 'description', 'exchange', 'pricescale', 'pointvalue', 'minmov', 'session', 'session_display', 'subsessions', 'type', 'typespecs', 'has_intraday', 'fractional', 'listed_exchange', 'legs', 'is_tradable', 'minmove2', 'timezone', 'aliases', 'alternatives', 'is_replayable', 'has_adjustment', 'has_extended_hours', 'bar_source', 'bar_transform', 'bar_fillgaps', 'visible_plots_set', 'isin-displayed', 'is-tickbars-available'])\n",
      "dict_keys(['source2', 'currency_code', 'source_id', 'session_holidays', 'subsession_id', 'provider_id', 'currency_id', 'country', 'pro_perm', 'measure', 'allowed_adjustment', 'short_description', 'variable_tick_size', 'isin', 'delay', 'language', 'name', 'full_name', 'pro_name', 'base_name', 'description', 'exchange', 'pricescale', 'pointvalue', 'minmov', 'session', 'session_display', 'subsessions', 'type', 'typespecs', 'has_intraday', 'fractional', 'listed_exchange', 'legs', 'is_tradable', 'minmove2', 'timezone', 'aliases', 'alternatives', 'is_replayable', 'has_adjustment', 'has_extended_hours', 'bar_source', 'bar_transform', 'bar_fillgaps', 'visible_plots_set', 'isin-displayed', 'is-tickbars-available', 'figi'])\n"
     ]
    }
   ],
   "source": [
    "gazp_keys = sym_gazp.keys()\n",
    "glen_keys = sym_glen.keys()\n",
    "print(gazp_keys)\n",
    "print(glen_keys)"
   ]
  }
 ],
 "metadata": {
  "kernelspec": {
   "display_name": "tvdatafeed-venv",
   "language": "python",
   "name": "python3"
  },
  "language_info": {
   "codemirror_mode": {
    "name": "ipython",
    "version": 3
   },
   "file_extension": ".py",
   "mimetype": "text/x-python",
   "name": "python",
   "nbconvert_exporter": "python",
   "pygments_lexer": "ipython3",
   "version": "3.12.3"
  }
 },
 "nbformat": 4,
 "nbformat_minor": 2
}
